{
 "cells": [
  {
   "cell_type": "markdown",
   "metadata": {},
   "source": [
    "import pandas as pd\n",
    "import numpy as np\n",
    "import matplotlib.pyplot as plt\n",
    "import string\n",
    "%matplotlib inline"
   ]
  },
  {
   "cell_type": "markdown",
   "metadata": {},
   "source": [
    "data_original = pd.read_csv('Census2.29.2020.csv')\n",
    "data_original.head()"
   ]
  },
  {
   "cell_type": "markdown",
   "metadata": {},
   "source": [
    "data_original.info()"
   ]
  },
  {
   "cell_type": "markdown",
   "metadata": {},
   "source": [
    "df = data_original.copy()\n",
    "df.tail()"
   ]
  },
  {
   "cell_type": "markdown",
   "metadata": {},
   "source": [
    "df = df.drop(['Unnamed: 12'], axis=1)\n",
    "df.head()"
   ]
  },
  {
   "cell_type": "markdown",
   "metadata": {},
   "source": [
    "df.info()"
   ]
  },
  {
   "cell_type": "markdown",
   "metadata": {},
   "source": [
    "Will use data_original to calculate number of changes made after each operation to df"
   ]
  },
  {
   "cell_type": "markdown",
   "metadata": {},
   "source": [
    "**First Name**"
   ]
  },
  {
   "cell_type": "markdown",
   "metadata": {},
   "source": [
    "# counts changes made to column, excluding null values\n",
    "\n",
    "df['First Name'].loc[data_original['First Name'].notnull() & (data_original['First Name']!=df['First Name'])].count()"
   ]
  },
  {
   "cell_type": "markdown",
   "metadata": {},
   "source": [
    "# define new name function for middle names\n",
    "\n",
    "def new_name(name):\n",
    "    if isinstance(name, str):\n",
    "        if '.' in name:\n",
    "            name = name.replace('.', '')\n",
    "        if len(name) == 2:\n",
    "            new_name = name[0].upper() + name[1]\n",
    "            return new_name\n",
    "        new_name = string.capwords(name.strip())\n",
    "        if ' And' in new_name:\n",
    "            new_name = new_name.replace(' And', ' &')\n",
    "        if '/' in new_name:\n",
    "            location = new_name.find('/')\n",
    "            new_name = new_name[:location] + ' & ' + new_name[location + 1].upper() + new_name[location + 2:]\n",
    "        if '-' in new_name:\n",
    "            location = new_name.find('-')\n",
    "            new_name = new_name[:location] + '-' + new_name[location + 1].upper() + new_name[location + 2:]\n",
    "        if (len(new_name) > 2) & ('Mc' in new_name):\n",
    "            location = new_name.find('Mc')\n",
    "            new_name = new_name[:location + 2] + new_name[location + 2].upper() + new_name[location + 3:]\n",
    "        return new_name\n",
    "    return name"
   ]
  },
  {
   "cell_type": "markdown",
   "metadata": {},
   "source": [
    "# apply function\n",
    "\n",
    "df['First Name'] = df['First Name'].apply(new_name)"
   ]
  },
  {
   "cell_type": "markdown",
   "metadata": {},
   "source": [
    "count = df['First Name'].loc[data_original['First Name'].notnull() & (data_original['First Name']!=df['First Name'])].count()\n",
    "count"
   ]
  },
  {
   "cell_type": "markdown",
   "metadata": {},
   "source": [
    "# manual changes, edge cases not fitting function: 22\n",
    "\n",
    "CODE REMOVED TO PROTECT PERSONAL INFORMATION\n",
    "\n",
    "manual = 22"
   ]
  },
  {
   "cell_type": "markdown",
   "metadata": {},
   "source": [
    "# count after changes above\n",
    "\n",
    "count = count + manual\n",
    "count"
   ]
  },
  {
   "cell_type": "markdown",
   "metadata": {},
   "source": [
    "# check And or and were handled\n",
    "\n",
    "df.loc[df['First Name'].notnull() & df['First Name'].str.contains(' ') & ((df['First Name'].str.contains('And')) | (df['First Name'].str.contains('and')))]"
   ]
  },
  {
   "cell_type": "markdown",
   "metadata": {},
   "source": [
    "# check And and were handled\n",
    "\n",
    "df.loc[df['First Name'].str.contains('& ') & df['First Name'].notnull()]"
   ]
  },
  {
   "cell_type": "markdown",
   "metadata": {},
   "source": [
    "# checking no records have mistyped 'Amd'\n",
    "\n",
    "df.loc[df['First Name'].str.contains(' Amd') & df['First Name'].notnull()]"
   ]
  },
  {
   "cell_type": "markdown",
   "metadata": {},
   "source": [
    "# check '/' was handled\n",
    "\n",
    "df.loc[df['First Name'].notnull() & df['First Name'].str.contains('/')]"
   ]
  },
  {
   "cell_type": "markdown",
   "metadata": {},
   "source": [
    "# check hyphenated first names were handled: \n",
    "\n",
    "df.loc[df['First Name'].notnull() & (df['First Name'].str.contains('-'))]"
   ]
  },
  {
   "cell_type": "markdown",
   "metadata": {},
   "source": [
    "# check first names starting with \"Mc\" were handled\n",
    "\n",
    "df.loc[df['First Name'].str.contains(\"Mc\") & df['First Name'].notnull()]"
   ]
  },
  {
   "cell_type": "markdown",
   "metadata": {},
   "source": [
    "# we decided not to handle first name's with apostrophes\n",
    "\n",
    "df.loc[df['First Name'].str.contains(\"'\") & df['First Name'].notnull()]"
   ]
  },
  {
   "cell_type": "markdown",
   "metadata": {},
   "source": [
    "# check And or and were handled and no first names end in '&'\n",
    "\n",
    "df.loc[df['First Name'].str[-1]=='&']"
   ]
  },
  {
   "cell_type": "markdown",
   "metadata": {},
   "source": [
    "# possible garbage records to delete\n",
    "\n",
    "garbage = CODE REMOVED TO PROTECT PERSONAL INFORMATION\n",
    "\n",
    "for record in garbage:\n",
    "    print(df.loc[df['Constituent Number']==record])"
   ]
  },
  {
   "cell_type": "markdown",
   "metadata": {},
   "source": [
    "# sample of column with changes\n",
    "\n",
    "df['First Name'].sample(100)"
   ]
  },
  {
   "cell_type": "markdown",
   "metadata": {},
   "source": [
    "# change count tally\n",
    "\n",
    "FirstName_ChangeCount = count\n",
    "FirstName_ChangeCount"
   ]
  },
  {
   "cell_type": "markdown",
   "metadata": {},
   "source": [
    "**Middle Name**"
   ]
  },
  {
   "cell_type": "markdown",
   "metadata": {},
   "source": [
    "# compare columns\n",
    "\n",
    "count = df['Middle Name'].loc[data_original['Middle Name'].notnull() & (data_original['Middle Name']!=df['Middle Name'])].count()\n",
    "count"
   ]
  },
  {
   "cell_type": "markdown",
   "metadata": {},
   "source": [
    "# define new name function for middle names\n",
    "\n",
    "def new_name(name):\n",
    "    if isinstance(name, str):\n",
    "        new_name = string.capwords(name.strip())\n",
    "        if ' And' in new_name:\n",
    "            new_name = new_name.replace(' And', ' &')\n",
    "        if '/' in new_name:\n",
    "            location = new_name.find('/')\n",
    "            new_name = new_name[:location] + ' & ' + new_name[location + 1].upper() + new_name[location + 2:]\n",
    "        if '.' in new_name:\n",
    "            new_name = new_name.replace('.', '')\n",
    "        if '-' in new_name:\n",
    "            location = new_name.find('-')\n",
    "            new_name = new_name[:location] + '-' + new_name[location + 1].upper() + new_name[location + 2:]\n",
    "        if (len(new_name) > 2) & ('Mc' in new_name):\n",
    "            location = new_name.find('Mc')\n",
    "            new_name = new_name[:location + 2] + new_name[location + 2].upper() + new_name[location + 3:]\n",
    "        return new_name\n",
    "\n",
    "    return name"
   ]
  },
  {
   "cell_type": "markdown",
   "metadata": {},
   "source": [
    "# apply function\n",
    "\n",
    "df['Middle Name'] = df['Middle Name'].apply(new_name)"
   ]
  },
  {
   "cell_type": "markdown",
   "metadata": {},
   "source": [
    "# take change count after function applied\n",
    "\n",
    "count = df['Middle Name'].loc[data_original['Middle Name'].notnull() & (data_original['Middle Name']!=df['Middle Name'])].count()\n",
    "count"
   ]
  },
  {
   "cell_type": "markdown",
   "metadata": {},
   "source": [
    "# manual changes: 8\n",
    "\n",
    "CODE REMOVED TO PROTECT PERSONAL INFORMATION\n",
    "\n",
    "df.at[df['Constituent Number'] == , 'Middle Name'] = ''\n",
    "\n",
    "manual = 8"
   ]
  },
  {
   "cell_type": "markdown",
   "metadata": {},
   "source": [
    "# increase change tally\n",
    "\n",
    "count = count + manual\n",
    "count"
   ]
  },
  {
   "cell_type": "markdown",
   "metadata": {},
   "source": [
    "# snapshot of column with changes\n",
    "\n",
    "df['Middle Name'].loc[df['Middle Name'].notnull()].sample(100)"
   ]
  },
  {
   "cell_type": "markdown",
   "metadata": {},
   "source": [
    "MiddleName_ChangeCount = count\n",
    "MiddleName_ChangeCount"
   ]
  },
  {
   "cell_type": "markdown",
   "metadata": {},
   "source": [
    "**Last or Org Name**"
   ]
  },
  {
   "cell_type": "markdown",
   "metadata": {},
   "source": [
    "# compare columns\n",
    "\n",
    "count = df['Last or Org Name'].loc[data_original['Last or Org Name'].notnull() & (data_original['Last or Org Name']!=df['Last or Org Name'])].count()\n",
    "count"
   ]
  },
  {
   "cell_type": "markdown",
   "metadata": {},
   "source": [
    "# define last name function\n",
    "\n",
    "def new_last(name):\n",
    "    if isinstance(name, str):\n",
    "        if name[:2] == 'De' or name[:3] == 'Mac':\n",
    "            new_last = name[0].upper() + name[1:]\n",
    "            return new_last\n",
    "        new_last = string.capwords(name.strip())\n",
    "        if ' And' in new_last:\n",
    "            new_last = new_last.replace(' And', ' &')\n",
    "        if '/' in new_last:\n",
    "            location = new_last.find('/')\n",
    "            new_last = new_last[:location] + ' & ' + new_last[location + 1].upper() + new_last[location + 2:]\n",
    "        if '.' in new_last:\n",
    "            new_last = new_last.replace('.', '')\n",
    "        if ',' in new_last:\n",
    "            new_last = new_last.replace(',', '')\n",
    "        if '-' in new_last:\n",
    "            location = new_last.find('-')\n",
    "            new_last = new_last[:location] + '-' + new_last[location + 1].upper() + new_last[location + 2:]\n",
    "        if (len(new_last) > 2) & ('Mc' in new_last):\n",
    "            location = new_last.find('Mc')\n",
    "            new_last = new_last[:location + 2] + new_last[location + 2].upper() + new_last[location + 3:]\n",
    "        if (len(new_last) > 2) & (\"O'\" in new_last):\n",
    "            location = new_last.find(\"O'\")\n",
    "            new_last = new_last[:location + 2] + new_last[location + 2].upper() + new_last[location + 3:]\n",
    "        if (len(new_last) > 2) & (\"D'\" in new_last):\n",
    "            location = new_last.find(\"D'\")\n",
    "            new_last = new_last[:location + 2] + new_last[location + 2].upper() + new_last[location + 3:]\n",
    "        if ' (' in new_last:\n",
    "            new_last = new_last[:new_last.find(' (')]\n",
    "            \n",
    "        abbrevs = [' Md', ' Mph', ' Llp', ' Llc', ' Dvm', ' Phd', ' Rn']\n",
    "        for abbrev in abbrevs:\n",
    "            if abbrev in new_last:\n",
    "                if abbrev == ' Phd':\n",
    "                    new_last = new_last.replace(abbrev, ' PhD')\n",
    "                    return new_last\n",
    "                else:\n",
    "                    new_last = new_last.replace(abbrev, abbrev.upper())\n",
    "        \n",
    "        return new_last\n",
    "    return name"
   ]
  },
  {
   "cell_type": "markdown",
   "metadata": {},
   "source": [
    "# manual changes to be made BEFORE applying function: 5\n",
    "\n",
    "CODE REMOVED TO PROTECT PERSONAL INFORMATION\n",
    "\n",
    "manual = 5"
   ]
  },
  {
   "cell_type": "markdown",
   "metadata": {},
   "source": [
    "# apply function\n",
    "\n",
    "df['Last or Org Name'] = df['Last or Org Name'].apply(new_last)"
   ]
  },
  {
   "cell_type": "markdown",
   "metadata": {},
   "source": [
    "# change count after applying function\n",
    "\n",
    "count = df['Last or Org Name'].loc[data_original['Last or Org Name'].notnull() & (data_original['Last or Org Name']!=df['Last or Org Name'])].count()\n",
    "count"
   ]
  },
  {
   "cell_type": "markdown",
   "metadata": {},
   "source": [
    "# manual changes AFTER applying function: 39\n",
    "\n",
    "CODE REMOVED TO PROTECT PERSONAL INFORMATION\n",
    "\n",
    "newManual = 44\n",
    "manual = manual + newManual\n",
    "manual"
   ]
  },
  {
   "cell_type": "markdown",
   "metadata": {},
   "source": [
    "'''QUESTION FOR ...MY CONTACT AT THE ORGANIZATION...: HOW TO HANDLE'''# potential duplicates with ...certain constituent..., possibly includes in ...3RD PARTY DATA ADMINISTRATOR... duplicate estimate?\n",
    "\n",
    "df.loc[df['Last or Org Name'].notnull() & (df['Last or Org Name'].str.contains('HER NAME HERE'))]"
   ]
  },
  {
   "cell_type": "markdown",
   "metadata": {},
   "source": [
    "# check: parentheses in final dataset to see if any should be preserved: 0\n",
    "\n",
    "df['Last or Org Name'].loc[df['Last or Org Name'].notnull() & (df['Last or Org Name'].str.contains('\\('))]"
   ]
  },
  {
   "cell_type": "markdown",
   "metadata": {},
   "source": [
    "# check: parentheses again\n",
    "\n",
    "df['Last or Org Name'].loc[df['Last or Org Name'].notnull() & (df['Last or Org Name'].str.contains('\\)'))]"
   ]
  },
  {
   "cell_type": "markdown",
   "metadata": {},
   "source": [
    "# check: any suspicious short last names to investigate or fix: 0\n",
    "\n",
    "df.loc[df['Last or Org Name'].notnull() & (df['Last or Org Name'].str.len() < 2)]"
   ]
  },
  {
   "cell_type": "markdown",
   "metadata": {},
   "source": [
    "# check: investigation into last names with apostrophe that do not start with O\n",
    "\n",
    "df['Last or Org Name'].loc[df['Last or Org Name'].str.contains(\"'\") & df['Last or Org Name'].notnull() & (df['Last or Org Name'].str[0] != 'O')]"
   ]
  },
  {
   "cell_type": "markdown",
   "metadata": {},
   "source": [
    "# check: handling dutch, french, or italian surname prefixes - last name starting with De- (or Du-): 220 records (don't handle in function - return whatever was inputted)\n",
    "\n",
    "df['Last or Org Name'].loc[df['Last or Org Name'].notnull() & (df['Last or Org Name'].str[:2] == 'De')]"
   ]
  },
  {
   "cell_type": "markdown",
   "metadata": {},
   "source": [
    "# check: last name starting with Da-: do not convert, assume anglicized last names, person would have inputted apostrophe if they really wanted\n",
    "\n",
    "df['Last or Org Name'].loc[df['Last or Org Name'].notnull() & (df['Last or Org Name'].str[:2] == 'Da')]"
   ]
  },
  {
   "cell_type": "markdown",
   "metadata": {},
   "source": [
    "# check: handling Gaelic surname prefixes - last name starting with Mac-, return as inputted\n",
    "\n",
    "df['Last or Org Name'].loc[df['Last or Org Name'].notnull() & (df['Last or Org Name'].str[:3] == 'Mac')]"
   ]
  },
  {
   "cell_type": "markdown",
   "metadata": {},
   "source": [
    "# check: handling Gaelic surname prefixes - last or org names containing \"Mc\":\n",
    "\n",
    "df['Last or Org Name'].loc[df['Last or Org Name'].str.contains(\"Mc\") & df['Last or Org Name'].notnull()]"
   ]
  },
  {
   "cell_type": "markdown",
   "metadata": {},
   "source": [
    "# Check: worth exploring if any last or org names contain \" Us\" in final dataset (for \"US\"): 0\n",
    "\n",
    "df.loc[df['Last or Org Name'].notnull() & df['Last or Org Name'].str.contains(\" Us\")]"
   ]
  },
  {
   "cell_type": "markdown",
   "metadata": {},
   "source": [
    "# check to see how function handled spaces in names, inspect any suspicious last names\n",
    "\n",
    "df['Last or Org Name'].loc[df['Last or Org Name'].notnull() & df['Last or Org Name'].str.contains(' ')].sample(50)"
   ]
  },
  {
   "cell_type": "markdown",
   "metadata": {},
   "source": [
    "# snapshot of column with changes\n",
    "\n",
    "df['Last or Org Name'].loc[df['Last or Org Name'].notnull()].sample(100)"
   ]
  },
  {
   "cell_type": "markdown",
   "metadata": {},
   "source": [
    "LastOrOrgName_ChangeCount = count + manual\n",
    "LastOrOrgName_ChangeCount"
   ]
  },
  {
   "cell_type": "markdown",
   "metadata": {},
   "source": [
    "**Email Address**"
   ]
  },
  {
   "cell_type": "markdown",
   "metadata": {},
   "source": [
    "# define function to check email syntax\n",
    "\n",
    "import re\n",
    "\n",
    "def syntax_check(email):\n",
    "    if re.match(r'(^[a-zA-Z0-9_.+-]+@[a-zA-Z0-9-]+\\.[a-zA-Z0-9-.]+$)', email):\n",
    "        return True\n",
    "    return False"
   ]
  },
  {
   "cell_type": "markdown",
   "metadata": {},
   "source": [
    "# apply function, return records with failed email addresses: 2 records below are technically valid, ignore\n",
    "\n",
    "df[df['Email Address'].apply(lambda check: syntax_check(check) if isinstance(check, str) else check) == 0]"
   ]
  },
  {
   "cell_type": "markdown",
   "metadata": {},
   "source": [
    "# check syntax check: double check all emails contain at least one period and ampersand: 0 fallout\n",
    "\n",
    "df['Email Address'].loc[df['Email Address'].notnull() & ~df['Email Address'].str.contains('.', na=False) & ~df['Email Address'].str.contains('@', na=False)]\n",
    "\n"
   ]
  },
  {
   "cell_type": "markdown",
   "metadata": {},
   "source": [
    "# check for common misspellings: copm, comq, gnail, vcom, .net misspellings, .org misspellings\n",
    "# only 6 records: manually fix\n",
    "\n",
    "df[['Constituent Number','Email Address']].loc[df['Email Address'].notnull() & (df['Email Address'].str.contains('copm') | df['Email Address'].str.contains('comn') | df['Email Address'].str.contains('prtg') | df['Email Address'].str.contains('comq') | df['Email Address'].str.contains('gnail') | df['Email Address'].str.contains('vcom'))]"
   ]
  },
  {
   "cell_type": "markdown",
   "metadata": {},
   "source": [
    "# manual fixes based on common misspellings above\n",
    "\n",
    "CODE REMOVED TO PROTECT PERSONAL INFORMATION\n",
    "\n",
    "manual = 5"
   ]
  },
  {
   "cell_type": "markdown",
   "metadata": {},
   "source": [
    "# snapshot of column with changes made\n",
    "\n",
    "df[['Constituent Number','Email Address']].loc[df['Email Address'].notnull()].sample(100)"
   ]
  },
  {
   "cell_type": "markdown",
   "metadata": {},
   "source": [
    "EmailAddress_ChangeCount = manual\n",
    "EmailAddress_ChangeCount"
   ]
  },
  {
   "cell_type": "markdown",
   "metadata": {},
   "source": [
    "**Primary Phone**"
   ]
  },
  {
   "cell_type": "markdown",
   "metadata": {},
   "source": [
    "# compare columns\n",
    "\n",
    "count = df['Primary Phone'].loc[data_original['Primary Phone'].notnull() & (data_original['Primary Phone']!=df['Primary Phone'])].count()\n",
    "count"
   ]
  },
  {
   "cell_type": "markdown",
   "metadata": {},
   "source": [
    "# Identify garbage records: phone numbers not containing at least one '-': 1\n",
    "\n",
    "df.loc[df['Primary Phone'].notnull() & ~df['Primary Phone'].str.contains('-', na=False)]"
   ]
  },
  {
   "cell_type": "markdown",
   "metadata": {},
   "source": [
    "# manual changes\n",
    "\n",
    "CODE REMOVED TO PROTECT PERSONAL INFORMATION\n",
    "\n",
    "manual = 7"
   ]
  },
  {
   "cell_type": "markdown",
   "metadata": {},
   "source": [
    "# define new number function\n",
    "\n",
    "def new_num(num):\n",
    "    \n",
    "    # regex: '(ddd) ddd-dddd' with restrictions\n",
    "    regex = \"^\\(?([2-9][0-8][0-9])\\)?[ ]?([2-9][0-9]{2})[-]?([0-9]{4})$\"\n",
    "    \n",
    "    # if cell is notnull\n",
    "    if isinstance(num, str):\n",
    "        \n",
    "        # if number matches regex, return as is\n",
    "        if re.match(regex, num):\n",
    "            return num\n",
    "        \n",
    "        # else if number contains an extension, slice the extension off, assuming extension lives in Extension column (check in Final Clean)\n",
    "        elif 'x' in num:\n",
    "            new_num = num[:num.find('x')].strip()\n",
    "            return new_num\n",
    "        \n",
    "        # else correct num format if num digits is 10\n",
    "        else:\n",
    "            num = num.strip().replace(' ', '').replace('  ', '').replace('-', '').replace('=', '').replace('\\(', '').replace('\\)', '')\n",
    "            if len(num) != 10:\n",
    "                new_num = np.nan\n",
    "                return new_num\n",
    "            else:\n",
    "                new_num = '(' + num[:3] + ') ' + num[3:6] + '-' + num[6:]\n",
    "            return new_num\n",
    "    \n",
    "    # not a string, return as is\n",
    "    return num"
   ]
  },
  {
   "cell_type": "markdown",
   "metadata": {},
   "source": [
    "# apply function\n",
    "\n",
    "df['Primary Phone'] = df['Primary Phone'].apply(new_num)"
   ]
  },
  {
   "cell_type": "markdown",
   "metadata": {},
   "source": [
    "# count changes made after function application\n",
    "\n",
    "count = df['Primary Phone'].loc[data_original['Primary Phone'].notnull() & (data_original['Primary Phone']!=df['Primary Phone'])].count()\n",
    "count"
   ]
  },
  {
   "cell_type": "markdown",
   "metadata": {},
   "source": [
    "# phone number lengths should be 14 after function application\n",
    "\n",
    "df['Primary Phone'].str.len().value_counts().sort_index(ascending=0)"
   ]
  },
  {
   "cell_type": "markdown",
   "metadata": {},
   "source": [
    "'''ASK ..MY CONTACT AT THE ORGANIZATION..: POTENTIAL DUPLICATES (DIFFERENT CONSTITUENT IDS, SAME PHONE NUMBER?)'''\n",
    "\n",
    "df['Primary Phone'].value_counts()"
   ]
  },
  {
   "cell_type": "markdown",
   "metadata": {},
   "source": [
    "# snapshot of column after changes\n",
    "\n",
    "df['Primary Phone'].loc[df['Primary Phone'].notnull()].sample(100)"
   ]
  },
  {
   "cell_type": "markdown",
   "metadata": {},
   "source": [
    "PrimaryPhone_ChangeCount = manual + count\n",
    "PrimaryPhone_ChangeCount"
   ]
  },
  {
   "cell_type": "markdown",
   "metadata": {},
   "source": [
    "**Address Line 1**"
   ]
  },
  {
   "cell_type": "markdown",
   "metadata": {},
   "source": [
    "# compare columns\n",
    "\n",
    "count = df['Address Line 1'].loc[data_original['Address Line 1'].notnull() & (data_original['Address Line 1']!=df['Address Line 1'])].count()\n",
    "count"
   ]
  },
  {
   "cell_type": "markdown",
   "metadata": {},
   "source": [
    "# define function\n",
    "\n",
    "def new_address(address):\n",
    "    # if address field isnt blank\n",
    "    if isinstance(address, str):\n",
    "        \n",
    "        # replace periods with blank spaces\n",
    "        if '.' in address:\n",
    "            address = address.replace('.', '')\n",
    "            \n",
    "        new_address = string.capwords(address.strip())\n",
    "        \n",
    "        # lowercase 'And'\n",
    "        if ' And ' in new_address:\n",
    "            new_address = new_address.replace(' And ', ' and ')\n",
    "        \n",
    "        # handling PO Box grammar\n",
    "        if 'Po ' in new_address:\n",
    "            new_address = new_address.replace('Po ', 'PO ')\n",
    "            \n",
    "        # capitalizing directions\n",
    "        directions = ['Sw ', 'Se ', 'Nw ', 'Ne ']\n",
    "        for direction in directions:\n",
    "            if direction in new_address:\n",
    "                new_address = new_address.replace(direction, direction.upper())\n",
    "        \n",
    "        # handling Mc-: NECESSARY FOR ADDRESS INFO?\n",
    "        if (len(new_address) > 2) & ('Mc' in new_address):\n",
    "            location = new_address.find('Mc')\n",
    "            new_address = new_address[:location + 2] + new_address[location + 2].upper() + new_address[location + 3:]\n",
    "        \n",
    "        return new_address\n",
    "    return address"
   ]
  },
  {
   "cell_type": "markdown",
   "metadata": {},
   "source": [
    "# apply function\n",
    "\n",
    "df['Address Line 1'] = df['Address Line 1'].apply(new_address)"
   ]
  },
  {
   "cell_type": "markdown",
   "metadata": {},
   "source": [
    "# count changes after applying function\n",
    "\n",
    "count = df['Address Line 1'].loc[data_original['Address Line 1'].notnull() & (data_original['Address Line 1']!=df['Address Line 1'])].count()\n",
    "count"
   ]
  },
  {
   "cell_type": "markdown",
   "metadata": {},
   "source": [
    "# manual fixes, edge cases\n",
    "\n",
    "CODE REMOVED TO PROTECT PERSONAL INFORMATION\n",
    "\n",
    "manual = 50"
   ]
  },
  {
   "cell_type": "markdown",
   "metadata": {
    "scrolled": true
   },
   "source": [
    "# investigate only digits in address line 1 with null address line 2, but valid city state postal: 10 records -> list for intern\n",
    "'''LIST FOR FURTHER RESEARCH'''\n",
    "\n",
    "df.loc[df['Address Line 1'].notnull() & df['Address Line 2'].isnull() & df['Address Line 1'].str.isdigit()]\n",
    "research = df['Constituent Number'].loc[df['Address Line 1'].notnull() & df['Address Line 2'].isnull() & df['Address Line 1'].str.isdigit()].tolist()"
   ]
  },
  {
   "cell_type": "markdown",
   "metadata": {},
   "source": [
    "# investigate address line 1 containing ! or ? and set to nan\n",
    "\n",
    "toNan = df['Constituent Number'].loc[df['Address Line 1'].notnull() & (df['Address Line 1'].str.contains('\\?') | df['Address Line 1'].str.contains('!'))].tolist()\n",
    "toNan"
   ]
  },
  {
   "cell_type": "markdown",
   "metadata": {},
   "source": [
    "# constituent id's toNan from practice workbook: compare to Research list and identify those who can be set to nan and those who should be included in list to intern\n",
    "\n",
    "ids = CODE REMOVED TO PROTECT PERSONAL INFORMATION\n",
    "\n",
    "len(ids)\n"
   ]
  },
  {
   "cell_type": "markdown",
   "metadata": {},
   "source": [
    "# investigate only alphas in address line 1 with null address line 2: 58 records -> list for intern\n",
    "'''ADD TO LIST FOR FURTHER RESEARCH'''\n",
    "\n",
    "research = research + df['Constituent Number'].loc[df['Address Line 1'].notnull() & df['Address Line 2'].isnull() & df['Address Line 1'].str.isalpha()].tolist()"
   ]
  },
  {
   "cell_type": "markdown",
   "metadata": {},
   "source": [
    "# consolidate list of toNan from practice workbook and decide if need to set to nan or intern research\n",
    "\n",
    "for id in ids:\n",
    "    if id in research:\n",
    "        ids.remove(id)\n",
    "        \n",
    "len(ids)"
   ]
  },
  {
   "cell_type": "markdown",
   "metadata": {},
   "source": [
    "# index using list of constituent numbers above  :)\n",
    "    # based on the below, there may be sufficient information for intern to find address: do not set any to nan\n",
    "    \n",
    "df.loc[df['Constituent Number'].isin(ids)]"
   ]
  },
  {
   "cell_type": "markdown",
   "metadata": {},
   "source": [
    "# set nans\n",
    "\n",
    "for id in toNan:\n",
    "    df.loc[df['Constituent Number'] == id, 'Address Line 1'] = np.nan\n",
    "    count += 1\n",
    "    \n",
    "count"
   ]
  },
  {
   "cell_type": "markdown",
   "metadata": {},
   "source": [
    "AddressLine1_ChangeCount = count + manual\n",
    "AddressLine1_ChangeCount"
   ]
  },
  {
   "cell_type": "markdown",
   "metadata": {},
   "source": [
    "**Address Line 2**"
   ]
  },
  {
   "cell_type": "markdown",
   "metadata": {},
   "source": [
    "# compare columns\n",
    "\n",
    "count = df['Address Line 2'].loc[data_original['Address Line 2'].notnull() & (data_original['Address Line 2']!=df['Address Line 2'])].count()\n",
    "count"
   ]
  },
  {
   "cell_type": "markdown",
   "metadata": {},
   "source": [
    "# manual changes\n",
    "\n",
    "CODE REMOVED TO PROTECT PERSONAL INFORMATION\n",
    "\n",
    "manual = 11"
   ]
  },
  {
   "cell_type": "markdown",
   "metadata": {},
   "source": [
    "# compare for nans\n",
    "\n",
    "ids = CODE REMOVED TO PROTECT PERSONAL INFORMATION\n",
    "\n",
    "ids = ids + df['Constituent Number'].loc[df['Address Line 2'].notnull() & (df['Address Line 2'].str.contains('none') | df['Address Line 2'].str.contains('None'))].tolist() + df['Constituent Number'].loc[df['Address Line 1'].notnull() & (df['Address Line 1'].str.contains('\\?') | df['Address Line 1'].str.contains('!'))].tolist() + df['Constituent Number'].loc[df['Address Line 1'].notnull() & (df['Address Line 1']==df['Address Line 2'])].tolist()\n",
    "len(ids)"
   ]
  },
  {
   "cell_type": "markdown",
   "metadata": {},
   "source": [
    "# index using list of constituent numbers above  :)\n",
    "    # based on the below, set all to nan\n",
    "    \n",
    "df.loc[df['Constituent Number'].isin(ids)].count()"
   ]
  },
  {
   "cell_type": "markdown",
   "metadata": {},
   "source": [
    "# set address line 2's mentioned above to nan\n",
    "\n",
    "for id in ids:\n",
    "    df.at[df['Constituent Number'] == id, 'Address Line 2'] = np.nan\n",
    "    count += 1\n",
    "    \n",
    "count"
   ]
  },
  {
   "cell_type": "markdown",
   "metadata": {},
   "source": [
    "# investigate apt in address line 1 with something in address line 2, check to make sure they're all redundant, then apply lambda function to truncate address line 1: 63 records\n",
    "\n",
    "df['Address Line 1'].loc[df['Address Line 1'].notnull() & df['Address Line 2'].notnull() & (df['Address Line 1'].str.contains('Apt') | df['Address Line 1'].str.contains('Apartment'))] = df['Address Line 1'].loc[df['Address Line 1'].notnull() & df['Address Line 2'].notnull() & (df['Address Line 1'].str.contains('apt') | df['Address Line 1'].str.contains('Apt'))].apply(lambda address: address[:address.find(' Apt')])\n",
    "manual += 63\n",
    "manual"
   ]
  },
  {
   "cell_type": "markdown",
   "metadata": {},
   "source": [
    "# define address slicing function\n",
    "\n",
    "def sliced_add(address):\n",
    "    words = ['Unit', 'Ste ', 'Suite', '#', 'Apt', 'Fl ']\n",
    "    for word in words:\n",
    "        if word in address:\n",
    "            start = address.find(word)\n",
    "        \n",
    "            # take word from Address Line 1 and assign to Address Line 2\n",
    "            addLine2 = address[start:]\n",
    "    return addLine2"
   ]
  },
  {
   "cell_type": "markdown",
   "metadata": {},
   "source": [
    "# apply function to select indices: 2604\n",
    "\n",
    "df['Address Line 2'].loc[df['Address Line 1'].notnull() & df['Address Line 2'].isnull() & (df['Address Line 1'].str.contains('Ste ') | df['Address Line 1'].str.contains('Unit') | df['Address Line 1'].str.contains('Suite') | df['Address Line 1'].str.contains('#') | df['Address Line 1'].str.contains('Apt') | df['Address Line 1'].str.contains('Fl '))] = df['Address Line 1'].loc[df['Address Line 1'].notnull() & df['Address Line 2'].isnull() & (df['Address Line 1'].str.contains('Ste ') | df['Address Line 1'].str.contains('Unit') | df['Address Line 1'].str.contains('Suite') | df['Address Line 1'].str.contains('#') | df['Address Line 1'].str.contains('Apt') | df['Address Line 1'].str.contains('Fl '))].apply(sliced_add)\n",
    "\n",
    "count+= 2604"
   ]
  },
  {
   "cell_type": "markdown",
   "metadata": {},
   "source": [
    "# define trimmed address function and apply to address line 1 line 2\n",
    "\n",
    "def trimmed_add(address):\n",
    "    words = ['Unit', 'Ste ', 'Suite', '#', 'Apt', 'Fl ']\n",
    "    for word in words:\n",
    "        if word in address:\n",
    "            start = address.find(word)\n",
    "        \n",
    "            # take word from Address Line 1 and replace it with nothing\n",
    "            addLine2 = address[start - 1:]\n",
    "            trimmed = address.replace(addLine2, \"\")\n",
    "            if ',' in trimmed:\n",
    "                trimmed = trimmed.replace(\",\", \"\")\n",
    "    return trimmed"
   ]
  },
  {
   "cell_type": "markdown",
   "metadata": {},
   "source": [
    "# apply function: 2642\n",
    "\n",
    "df['Address Line 1'].loc[df['Address Line 1'].notnull() & df['Address Line 2'].notnull() & (df['Address Line 1'].str.contains('Ste ') | df['Address Line 1'].str.contains('Unit') | df['Address Line 1'].str.contains('Suite') | df['Address Line 1'].str.contains('#') | df['Address Line 1'].str.contains('Apt') | df['Address Line 1'].str.contains('Fl '))] = df['Address Line 1'].loc[df['Address Line 1'].notnull() & df['Address Line 2'].notnull() & (df['Address Line 1'].str.contains('Ste ') | df['Address Line 1'].str.contains('Unit') | df['Address Line 1'].str.contains('Suite') | df['Address Line 1'].str.contains('#') | df['Address Line 1'].str.contains('Apt') | df['Address Line 1'].str.contains('Fl '))].apply(trimmed_add)\n",
    "\n",
    "count += 2642"
   ]
  },
  {
   "cell_type": "markdown",
   "metadata": {},
   "source": [
    "df[['Address Line 1','Address Line 2']].loc[df['Address Line 1'].notnull() & df['Address Line 1'].str.contains(',')]"
   ]
  },
  {
   "cell_type": "markdown",
   "metadata": {},
   "source": [
    "# selectively delete redundant info after comma\n",
    "\n",
    "ManualafterComma = CODE REMOVED TO PROTECT PERSONAL INFORMATION\n",
    "for x in ManualafterComma:\n",
    "    df.at[df['Constituent Number'] == x, 'Address Line 1'] = df['Address Line 1'].loc[df['Constituent Number'] == x].apply(lambda address: address[:address.find(',')])\n",
    "\n",
    "manual += 6"
   ]
  },
  {
   "cell_type": "markdown",
   "metadata": {},
   "source": [
    "# assign what's after comma in address line 1 to address line 2\n",
    "\n",
    "df['Address Line 2'].loc[df['Address Line 1'].notnull() & df['Address Line 1'].str.contains(',')] = df['Address Line 1'].loc[df['Address Line 1'].notnull() & df['Address Line 1'].str.contains(',')].apply(lambda address: address[address.find(',') + 2:])\n",
    "\n",
    "manual += 52"
   ]
  },
  {
   "cell_type": "markdown",
   "metadata": {},
   "source": [
    "# trim address line 1 up until comma\n",
    "\n",
    "df['Address Line 1'].loc[df['Address Line 1'].notnull() & df['Address Line 1'].str.contains(',')] = df['Address Line 1'].loc[df['Address Line 1'].notnull() & df['Address Line 1'].str.contains(',')].apply(lambda address: address[:address.find(',')])\n",
    "\n",
    "manual += 52\n"
   ]
  },
  {
   "cell_type": "markdown",
   "metadata": {},
   "source": [
    "# check, possibly investigate some of these\n",
    "\n",
    "df[['Address Line 1','Address Line 2']].loc[df['Address Line 1'].notnull() & df['Address Line 2'].str.contains(',')]"
   ]
  },
  {
   "cell_type": "markdown",
   "metadata": {},
   "source": [
    "count, manual"
   ]
  },
  {
   "cell_type": "markdown",
   "metadata": {},
   "source": [
    "checkcount = df['Address Line 2'].loc[data_original['Address Line 2'].notnull() & (data_original['Address Line 2']!=df['Address Line 2'])].count()\n",
    "checkcount"
   ]
  },
  {
   "cell_type": "markdown",
   "metadata": {},
   "source": [
    "# apply function to address line 2\n",
    "\n",
    "df['Address Line 2'] = df['Address Line 2'].apply(new_address)"
   ]
  },
  {
   "cell_type": "markdown",
   "metadata": {},
   "source": [
    "checkcount = df['Address Line 2'].loc[data_original['Address Line 2'].notnull() & (data_original['Address Line 2']!=df['Address Line 2'])].count()\n",
    "checkcount"
   ]
  },
  {
   "cell_type": "markdown",
   "metadata": {},
   "source": [
    "AddressLine2_ChangeCount = count + manual + checkcount\n",
    "AddressLine2_ChangeCount"
   ]
  },
  {
   "cell_type": "markdown",
   "metadata": {},
   "source": [
    "df.loc[24718]"
   ]
  },
  {
   "cell_type": "markdown",
   "metadata": {},
   "source": [
    "# final shapshot of column with changes\n",
    "\n",
    "df[['Address Line 1', 'Address Line 2']].loc[df['Address Line 1'].notnull()].sample(100)"
   ]
  },
  {
   "cell_type": "markdown",
   "metadata": {},
   "source": [
    "**Address Line 3**"
   ]
  },
  {
   "cell_type": "markdown",
   "metadata": {},
   "source": [
    "# compare columns\n",
    "\n",
    "count = df['Address Line 3'].loc[data_original['Address Line 3'].notnull() & (data_original['Address Line 3']!=df['Address Line 3'])].count()\n",
    "count"
   ]
  },
  {
   "cell_type": "markdown",
   "metadata": {},
   "source": [
    "# check any Address Line 3 and fix\n",
    "\n",
    "df.loc[df['Address Line 3'].notnull()]"
   ]
  },
  {
   "cell_type": "markdown",
   "metadata": {},
   "source": [
    "# manual fixes\n",
    "\n",
    "CODE REMOVED TO PROTECT PERSONAL INFORMATION\n",
    "\n",
    "manual = 3"
   ]
  },
  {
   "cell_type": "markdown",
   "metadata": {},
   "source": [
    "# snapshot of column with changes applied\n",
    "\n",
    "df.loc[df['Address Line 3'].notnull()]"
   ]
  },
  {
   "cell_type": "markdown",
   "metadata": {},
   "source": [
    "AddressLine3_ChangeCount = manual + count\n",
    "AddressLine3_ChangeCount"
   ]
  },
  {
   "cell_type": "markdown",
   "metadata": {},
   "source": [
    "**City**"
   ]
  },
  {
   "cell_type": "markdown",
   "metadata": {},
   "source": [
    "# compare columns\n",
    "\n",
    "count = df['City'].loc[data_original['City'].notnull() & (data_original['City']!=df['City'])].count()\n",
    "count"
   ]
  },
  {
   "cell_type": "markdown",
   "metadata": {},
   "source": [
    "# investigate City with only digits\n",
    "\n",
    "df.loc[df['City'].notnull() & df['City'].str.isdigit()]"
   ]
  },
  {
   "cell_type": "markdown",
   "metadata": {},
   "source": [
    "# manual changes\n",
    "\n",
    "CODE REMOVED TO PROTECT PERSONAL INFORMATION\n",
    "\n",
    "manual = 4"
   ]
  },
  {
   "cell_type": "markdown",
   "metadata": {},
   "source": [
    "# define new city function\n",
    "\n",
    "def newCity(city):\n",
    "    if isinstance(city, str):\n",
    "        newCity = string.capwords(city.strip()).replace(',', '').replace(':', '').replace('.', '')\n",
    "        return newCity\n",
    "    return city"
   ]
  },
  {
   "cell_type": "markdown",
   "metadata": {},
   "source": [
    "# apply function\n",
    "\n",
    "df.City = df.City.apply(newCity)"
   ]
  },
  {
   "cell_type": "markdown",
   "metadata": {},
   "source": [
    "# calculate changes made by function\n",
    "\n",
    "count = df['City'].loc[data_original['City'].notnull() & (data_original['City']!=df['City'])].count()\n",
    "count"
   ]
  },
  {
   "cell_type": "markdown",
   "metadata": {},
   "source": [
    "# more manual changes\n",
    "\n",
    "CODE REMOVED TO PROTECT PERSONAL INFORMATION\n",
    "\n",
    "manual += 9"
   ]
  },
  {
   "cell_type": "markdown",
   "metadata": {},
   "source": [
    "# shapshot of column with changes\n",
    "\n",
    "df.City[df.City.notnull()].sample(100)"
   ]
  },
  {
   "cell_type": "markdown",
   "metadata": {},
   "source": [
    "City_ChangeCount = manual + count\n",
    "City_ChangeCount"
   ]
  },
  {
   "cell_type": "markdown",
   "metadata": {},
   "source": [
    "**State**"
   ]
  },
  {
   "cell_type": "markdown",
   "metadata": {},
   "source": [
    "# compare columns\n",
    "\n",
    "count = df['State'].loc[data_original['State'].notnull() & (data_original['State']!=df['State'])].count()\n",
    "count"
   ]
  },
  {
   "cell_type": "markdown",
   "metadata": {},
   "source": [
    "CODE REMOVED TO PROTECT PERSONAL INFORMATION\n",
    "\n",
    "manual = 12"
   ]
  },
  {
   "cell_type": "markdown",
   "metadata": {},
   "source": [
    "# list of US states + DC\n",
    "states = [\"AL\", \"AK\", \"AZ\", \"AR\", \"CA\", \"CO\", \"CT\", \"DC\", \"DE\", \"FL\", \"GA\", \n",
    "          \"HI\", \"ID\", \"IL\", \"IN\", \"IA\", \"KS\", \"KY\", \"LA\", \"ME\", \"MD\", \n",
    "          \"MA\", \"MI\", \"MN\", \"MS\", \"MO\", \"MT\", \"NE\", \"NV\", \"NH\", \"NJ\", \n",
    "          \"NM\", \"NY\", \"NC\", \"ND\", \"OH\", \"OK\", \"OR\", \"PA\", \"RI\", \"SC\", \n",
    "          \"SD\", \"TN\", \"TX\", \"UT\", \"VT\", \"VA\", \"WA\", \"WV\", \"WI\", \"WY\"]"
   ]
  },
  {
   "cell_type": "markdown",
   "metadata": {},
   "source": [
    "# define state cleaning function\n",
    "\n",
    "def formatState(state):\n",
    "    if isinstance(state, str):\n",
    "        states = [\"AL\", \"AK\", \"AZ\", \"AR\", \"CA\", \"CO\", \"CT\", \"DC\", \"DE\", \"FL\", \"GA\", \n",
    "          \"HI\", \"ID\", \"IL\", \"IN\", \"IA\", \"KS\", \"KY\", \"LA\", \"ME\", \"MD\", \n",
    "          \"MA\", \"MI\", \"MN\", \"MS\", \"MO\", \"MT\", \"NE\", \"NV\", \"NH\", \"NJ\", \n",
    "          \"NM\", \"NY\", \"NC\", \"ND\", \"OH\", \"OK\", \"OR\", \"PA\", \"RI\", \"SC\", \n",
    "          \"SD\", \"TN\", \"TX\", \"UT\", \"VT\", \"VA\", \"WA\", \"WV\", \"WI\", \"WY\"]\n",
    "        newState = state.upper().strip()\n",
    "        if newState in states:\n",
    "            return newState\n",
    "        elif newState in ['AA', 'XX', 'CHI', 'PEO']:\n",
    "            return 'IL'\n",
    "        else:\n",
    "            return newState\n",
    "    return state"
   ]
  },
  {
   "cell_type": "markdown",
   "metadata": {},
   "source": [
    "# apply function\n",
    "\n",
    "df.State = df.State.apply(formatState)"
   ]
  },
  {
   "cell_type": "markdown",
   "metadata": {},
   "source": [
    "# calculate changes made\n",
    "\n",
    "count = df['State'].loc[data_original['State'].notnull() & (data_original['State']!=df['State'])].count()\n",
    "count"
   ]
  },
  {
   "cell_type": "markdown",
   "metadata": {},
   "source": [
    "# check\n",
    "\n",
    "df.State.loc[df.State.notnull() & (~df.State.isin(states))].value_counts()"
   ]
  },
  {
   "cell_type": "markdown",
   "metadata": {},
   "source": [
    "#check missing State everything else filled in: 0 records\n",
    "\n",
    "df.loc[df['State'].isnull() & (df['City'].notnull() | df['Address Line 1'].notnull() | df['Postal Code'].notnull())]"
   ]
  },
  {
   "cell_type": "markdown",
   "metadata": {},
   "source": [
    "df.State.value_counts()"
   ]
  },
  {
   "cell_type": "markdown",
   "metadata": {},
   "source": [
    "# shapshot of state column after changes\n",
    "\n",
    "df.State.loc[df.State.notnull()].sample(100)"
   ]
  },
  {
   "cell_type": "markdown",
   "metadata": {},
   "source": [
    "State_ChangeCount = manual + count\n",
    "State_ChangeCount"
   ]
  },
  {
   "cell_type": "markdown",
   "metadata": {},
   "source": [
    "**Postal Code**"
   ]
  },
  {
   "cell_type": "markdown",
   "metadata": {},
   "source": [
    "# compare columns\n",
    "\n",
    "count = df['Postal Code'].loc[data_original['Postal Code'].notnull() & (data_original['Postal Code']!=df['Postal Code'])].count()\n",
    "count"
   ]
  },
  {
   "cell_type": "markdown",
   "metadata": {},
   "source": [
    "# manual changes\n",
    "\n",
    "CODE REMOVED TO PROTECT PERSONAL INFORMATION\n",
    "\n",
    "manual = 16"
   ]
  },
  {
   "cell_type": "markdown",
   "metadata": {},
   "source": [
    "# investigate missing postal with everything else included\n",
    "\n",
    "df.loc[df['Postal Code'].isnull() & (df.State.notnull() | df['Address Line 1'].notnull() | df['City'].notnull())]"
   ]
  },
  {
   "cell_type": "markdown",
   "metadata": {},
   "source": [
    "df.loc[df['Constituent Number']==CODE REMOVED TO PROTECT PERSONAL INFORMATION]"
   ]
  },
  {
   "cell_type": "markdown",
   "metadata": {},
   "source": [
    "df['Constituent Number'].value_counts()"
   ]
  },
  {
   "cell_type": "markdown",
   "metadata": {},
   "source": [
    "'''FINAL QUESTION FOR ...MY CONTACT AT THE ORGANIZATION... (AND ...MY CONTACT AT THE 3RD PARTY DATA ADMINISTRATOR...): IF CONSTITUENT NUMBER IS THE UNIQUE IDENTIFIER TIED TO THE RECORD IN ...THE 3RD PARTY DATA ADMINISTRATOR..., AND THERE ARE CONSTITUENTS REPRESENTED MORE THAN ONCE WITH THE SAME CONSITUENT NUMBER, HOW WILL THE UPDATES BE PUSHED?'''\n",
    "\n",
    "# SEE EXAMPLE ABOVE: CONSTITUENT NUMBER xyz\n",
    "\n",
    "'''SHOULD WE PERMANENTLY DELETE THE GARBAGE RECORDS FROM THE DATABASE?'''"
   ]
  },
  {
   "cell_type": "markdown",
   "metadata": {},
   "source": [
    "# add to Intern list: investigate erroneous postal codes, including less than 5 digits (not on east coast), and postal code of 99999\n",
    "'''QUESTION FOR ...MY CONTACT AT THE ORGANIZATION...: should i divide list for intern into separate categories?'''\n",
    "\n",
    "research += df['Constituent Number'].loc[df['Postal Code'].notnull() & (((df['Postal Code'].str.len() < 5) & (df.State != 'OT') & (df.State != 'NS') & (df.State != 'SW')) | (df['Postal Code'] == '99999'))].tolist()\n",
    "len(research)"
   ]
  },
  {
   "cell_type": "markdown",
   "metadata": {},
   "source": [
    "# shapshot of erroneous zips noted above\n",
    "\n",
    "df.loc[df['Postal Code'].notnull() & (((df['Postal Code'].str.len() < 5) & (df.State != 'OT') & (df.State != 'NS') & (df.State != 'SW')) | (df['Postal Code'] == '99999'))]"
   ]
  },
  {
   "cell_type": "markdown",
   "metadata": {},
   "source": [
    "# investigate zips longer than 5 digits: 1 records, manually fixed above\n",
    "\n",
    "df.loc[df['Postal Code'].notnull() & (df['Postal Code'].str.len() > 5) & (df.State != 'OT') & (df.State != 'QC') & (df.State != 'SK') & (df.State != 'ON')]"
   ]
  },
  {
   "cell_type": "markdown",
   "metadata": {},
   "source": [
    "# regex check if any (local) postal code contains an alpha character: 0\n",
    "import re\n",
    "df.loc[df['Postal Code'].notnull() & df['Postal Code'].str.contains(r'[a-zA-Z]') & (df.State != 'OT') & (df.State != 'QC') & (df.State != 'SK') & (df.State != 'ON')]"
   ]
  },
  {
   "cell_type": "markdown",
   "metadata": {
    "scrolled": true
   },
   "source": [
    "# shapshot of column with changes made\n",
    "\n",
    "df.loc[df['Postal Code'].notnull(), 'Postal Code'].sample(100)"
   ]
  },
  {
   "cell_type": "markdown",
   "metadata": {},
   "source": [
    "PostalCode_ChangeCount = manual + count\n",
    "PostalCode_ChangeCount"
   ]
  },
  {
   "cell_type": "markdown",
   "metadata": {},
   "source": [
    "**TOTAL CHANGE COUNT**"
   ]
  },
  {
   "cell_type": "markdown",
   "metadata": {},
   "source": [
    "totalChanges = FirstName_ChangeCount + MiddleName_ChangeCount + LastOrOrgName_ChangeCount + EmailAddress_ChangeCount + PrimaryPhone_ChangeCount + AddressLine1_ChangeCount + AddressLine2_ChangeCount + AddressLine3_ChangeCount + City_ChangeCount + State_ChangeCount + PostalCode_ChangeCount\n",
    "totalChanges"
   ]
  },
  {
   "cell_type": "markdown",
   "metadata": {},
   "source": [
    "# snapshot of intern list to research\n",
    "\n",
    "#df.loc[df['Constituent Number']==CODE REMOVED TO PROTECT PERSONAL INFORMATION]\n",
    "df[df['Constituent Number'].isin(research)]"
   ]
  },
  {
   "cell_type": "markdown",
   "metadata": {},
   "source": [
    "df.loc[(df['Postal Code'].str.len() < 5) & (df['State'] != 'IL')]"
   ]
  },
  {
   "cell_type": "markdown",
   "metadata": {},
   "source": [
    "df.to_csv(r'CODE REMOVED TO PROTECT PERSONAL INFORMATION', index=False, header=True)"
   ]
  }
 ],
 "metadata": {
  "kernelspec": {
   "display_name": "Python 3",
   "language": "python",
   "name": "python3"
  },
  "language_info": {
   "codemirror_mode": {
    "name": "ipython",
    "version": 3
   },
   "file_extension": ".py",
   "mimetype": "text/x-python",
   "name": "python",
   "nbconvert_exporter": "python",
   "pygments_lexer": "ipython3",
   "version": "3.7.2"
  }
 },
 "nbformat": 4,
 "nbformat_minor": 2
}
